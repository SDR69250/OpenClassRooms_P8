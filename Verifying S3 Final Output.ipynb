{
 "cells": [
  {
   "cell_type": "markdown",
   "id": "e911f6e2",
   "metadata": {},
   "source": [
    "# Import packages"
   ]
  },
  {
   "cell_type": "code",
   "execution_count": 1,
   "id": "24cee112",
   "metadata": {
    "ExecuteTime": {
     "end_time": "2022-11-17T20:04:46.948761Z",
     "start_time": "2022-11-17T20:04:45.601290Z"
    }
   },
   "outputs": [],
   "source": [
    "import pandas as pd\n",
    "import glob\n",
    "import json\n",
    "import os"
   ]
  },
  {
   "cell_type": "markdown",
   "id": "9b74cfe7",
   "metadata": {},
   "source": [
    "# Create list of Dataframes from files in local folder"
   ]
  },
  {
   "cell_type": "code",
   "execution_count": 2,
   "id": "e6f27cbf",
   "metadata": {
    "ExecuteTime": {
     "end_time": "2022-11-17T20:04:46.964764Z",
     "start_time": "2022-11-17T20:04:46.950761Z"
    }
   },
   "outputs": [
    {
     "data": {
      "text/plain": [
       "'D:\\\\FORMATION_OPENCLASSROOMS\\\\2_PROJETS\\\\P8_DeRosa_Sebastien'"
      ]
     },
     "execution_count": 2,
     "metadata": {},
     "output_type": "execute_result"
    }
   ],
   "source": [
    "# get current folder with os\n",
    "os.getcwd()"
   ]
  },
  {
   "cell_type": "code",
   "execution_count": 3,
   "id": "d504cd75",
   "metadata": {
    "ExecuteTime": {
     "end_time": "2022-11-17T20:04:46.980768Z",
     "start_time": "2022-11-17T20:04:46.965765Z"
    }
   },
   "outputs": [],
   "source": [
    "# testing unix style paths\n",
    "files = glob.glob('./Output_S3/*.csv')"
   ]
  },
  {
   "cell_type": "code",
   "execution_count": 4,
   "id": "b56d326f",
   "metadata": {
    "ExecuteTime": {
     "end_time": "2022-11-17T20:04:47.537929Z",
     "start_time": "2022-11-17T20:04:46.982768Z"
    }
   },
   "outputs": [],
   "source": [
    "df_list = {}\n",
    "for i in range(len(glob.glob('./Output_S3/*.csv'))):\n",
    "    df_list[str(\"n\"+str(i))] = pd.read_csv(files[i])"
   ]
  },
  {
   "cell_type": "code",
   "execution_count": 5,
   "id": "c8186bf9",
   "metadata": {
    "ExecuteTime": {
     "end_time": "2022-11-17T20:04:47.553933Z",
     "start_time": "2022-11-17T20:04:47.538930Z"
    }
   },
   "outputs": [
    {
     "data": {
      "text/plain": [
       "dict_keys(['n0', 'n1', 'n2', 'n3', 'n4', 'n5', 'n6', 'n7', 'n8', 'n9', 'n10', 'n11', 'n12', 'n13', 'n14', 'n15', 'n16', 'n17', 'n18', 'n19', 'n20', 'n21', 'n22', 'n23', 'n24', 'n25', 'n26', 'n27', 'n28', 'n29', 'n30', 'n31', 'n32', 'n33', 'n34', 'n35', 'n36', 'n37', 'n38', 'n39', 'n40', 'n41', 'n42', 'n43', 'n44', 'n45', 'n46', 'n47'])"
      ]
     },
     "execution_count": 5,
     "metadata": {},
     "output_type": "execute_result"
    }
   ],
   "source": [
    "df_list.keys()"
   ]
  },
  {
   "cell_type": "code",
   "execution_count": 6,
   "id": "5900695d",
   "metadata": {
    "ExecuteTime": {
     "end_time": "2022-11-17T20:04:47.585940Z",
     "start_time": "2022-11-17T20:04:47.554933Z"
    }
   },
   "outputs": [
    {
     "data": {
      "text/html": [
       "<div>\n",
       "<style scoped>\n",
       "    .dataframe tbody tr th:only-of-type {\n",
       "        vertical-align: middle;\n",
       "    }\n",
       "\n",
       "    .dataframe tbody tr th {\n",
       "        vertical-align: top;\n",
       "    }\n",
       "\n",
       "    .dataframe thead th {\n",
       "        text-align: right;\n",
       "    }\n",
       "</style>\n",
       "<table border=\"1\" class=\"dataframe\">\n",
       "  <thead>\n",
       "    <tr style=\"text-align: right;\">\n",
       "      <th></th>\n",
       "      <th>path</th>\n",
       "      <th>features</th>\n",
       "    </tr>\n",
       "  </thead>\n",
       "  <tbody>\n",
       "    <tr>\n",
       "      <th>0</th>\n",
       "      <td>s3a://s3-ds-p8/Training/carrot_1/r0_18.jpg</td>\n",
       "      <td>[0.0, 0.0, 0.0, 0.0, 0.0, 0.0, 0.0, 0.0, 0.0, ...</td>\n",
       "    </tr>\n",
       "    <tr>\n",
       "      <th>1</th>\n",
       "      <td>s3a://s3-ds-p8/Training/carrot_1/r0_38.jpg</td>\n",
       "      <td>[0.0, 0.0, 0.0, 0.0, 0.0, 0.0, 0.0, 0.0, 0.0, ...</td>\n",
       "    </tr>\n",
       "    <tr>\n",
       "      <th>2</th>\n",
       "      <td>s3a://s3-ds-p8/Training/carrot_1/r0_108.jpg</td>\n",
       "      <td>[0.0, 0.0, 0.0, 0.0, 0.0, 0.0, 0.0, 0.0, 0.0, ...</td>\n",
       "    </tr>\n",
       "    <tr>\n",
       "      <th>3</th>\n",
       "      <td>s3a://s3-ds-p8/Training/carrot_1/r0_76.jpg</td>\n",
       "      <td>[0.0, 0.0, 0.0, 0.0, 0.0, 0.0, 0.0, 0.0, 0.0, ...</td>\n",
       "    </tr>\n",
       "    <tr>\n",
       "      <th>4</th>\n",
       "      <td>s3a://s3-ds-p8/Training/carrot_1/r0_178.jpg</td>\n",
       "      <td>[0.0, 0.0, 0.0, 0.0, 0.0, 0.0, 0.0, 0.0, 0.0, ...</td>\n",
       "    </tr>\n",
       "    <tr>\n",
       "      <th>5</th>\n",
       "      <td>s3a://s3-ds-p8/Training/carrot_1/r0_96.jpg</td>\n",
       "      <td>[0.0, 0.0, 0.0, 0.0, 0.0, 0.0, 0.0, 0.0, 0.0, ...</td>\n",
       "    </tr>\n",
       "    <tr>\n",
       "      <th>6</th>\n",
       "      <td>s3a://s3-ds-p8/Training/carrot_1/r0_156.jpg</td>\n",
       "      <td>[0.0, 0.0, 0.0, 0.0, 0.0, 0.0, 0.0, 0.0, 0.0, ...</td>\n",
       "    </tr>\n",
       "  </tbody>\n",
       "</table>\n",
       "</div>"
      ],
      "text/plain": [
       "                                          path  \\\n",
       "0   s3a://s3-ds-p8/Training/carrot_1/r0_18.jpg   \n",
       "1   s3a://s3-ds-p8/Training/carrot_1/r0_38.jpg   \n",
       "2  s3a://s3-ds-p8/Training/carrot_1/r0_108.jpg   \n",
       "3   s3a://s3-ds-p8/Training/carrot_1/r0_76.jpg   \n",
       "4  s3a://s3-ds-p8/Training/carrot_1/r0_178.jpg   \n",
       "5   s3a://s3-ds-p8/Training/carrot_1/r0_96.jpg   \n",
       "6  s3a://s3-ds-p8/Training/carrot_1/r0_156.jpg   \n",
       "\n",
       "                                            features  \n",
       "0  [0.0, 0.0, 0.0, 0.0, 0.0, 0.0, 0.0, 0.0, 0.0, ...  \n",
       "1  [0.0, 0.0, 0.0, 0.0, 0.0, 0.0, 0.0, 0.0, 0.0, ...  \n",
       "2  [0.0, 0.0, 0.0, 0.0, 0.0, 0.0, 0.0, 0.0, 0.0, ...  \n",
       "3  [0.0, 0.0, 0.0, 0.0, 0.0, 0.0, 0.0, 0.0, 0.0, ...  \n",
       "4  [0.0, 0.0, 0.0, 0.0, 0.0, 0.0, 0.0, 0.0, 0.0, ...  \n",
       "5  [0.0, 0.0, 0.0, 0.0, 0.0, 0.0, 0.0, 0.0, 0.0, ...  \n",
       "6  [0.0, 0.0, 0.0, 0.0, 0.0, 0.0, 0.0, 0.0, 0.0, ...  "
      ]
     },
     "execution_count": 6,
     "metadata": {},
     "output_type": "execute_result"
    }
   ],
   "source": [
    "df_list['n0']"
   ]
  },
  {
   "cell_type": "markdown",
   "id": "fd1ed125",
   "metadata": {},
   "source": [
    "# Describe feature number for each processed file in a summary table"
   ]
  },
  {
   "cell_type": "code",
   "execution_count": 7,
   "id": "eb104ed2",
   "metadata": {
    "ExecuteTime": {
     "end_time": "2022-11-17T20:04:47.601944Z",
     "start_time": "2022-11-17T20:04:47.586943Z"
    }
   },
   "outputs": [],
   "source": [
    "def data_describe():\n",
    "    '''From a list of df\n",
    "       Converts Series to Array\n",
    "       Count number of features.\n",
    "       '''\n",
    "\n",
    "    data_dict = {'Path':[],'Nb_Features':[]}\n",
    "    for df in df_list.keys():\n",
    "        \n",
    "#         print(\"processing \",df,\":\")\n",
    "        data = df_list[df]\n",
    "        for i in range(data.shape[0]):\n",
    "                data_dict[\"Path\"].append(data.path[i])\n",
    "                data_dict[\"Nb_Features\"].append(len(json.loads(data.features[i])))\n",
    "\n",
    "    table = pd.DataFrame.from_dict(data = data_dict, orient='columns')\n",
    "    \n",
    "# Set the row number to be able to see the complete list\n",
    "    pd.set_option('display.max_rows', 314)\n",
    "    \n",
    "    print(\"SUMMARY DATAFRAMES…\")\n",
    "    return(table)"
   ]
  },
  {
   "cell_type": "code",
   "execution_count": 8,
   "id": "6dc751cb",
   "metadata": {
    "ExecuteTime": {
     "end_time": "2022-11-17T20:04:49.145631Z",
     "start_time": "2022-11-17T20:04:47.602945Z"
    },
    "scrolled": false
   },
   "outputs": [
    {
     "name": "stdout",
     "output_type": "stream",
     "text": [
      "SUMMARY DATAFRAMES…\n"
     ]
    }
   ],
   "source": [
    "df_output = data_describe()"
   ]
  },
  {
   "cell_type": "code",
   "execution_count": 9,
   "id": "cde8a69c",
   "metadata": {
    "ExecuteTime": {
     "end_time": "2022-11-17T20:04:49.161635Z",
     "start_time": "2022-11-17T20:04:49.146631Z"
    }
   },
   "outputs": [
    {
     "data": {
      "text/html": [
       "<div>\n",
       "<style scoped>\n",
       "    .dataframe tbody tr th:only-of-type {\n",
       "        vertical-align: middle;\n",
       "    }\n",
       "\n",
       "    .dataframe tbody tr th {\n",
       "        vertical-align: top;\n",
       "    }\n",
       "\n",
       "    .dataframe thead th {\n",
       "        text-align: right;\n",
       "    }\n",
       "</style>\n",
       "<table border=\"1\" class=\"dataframe\">\n",
       "  <thead>\n",
       "    <tr style=\"text-align: right;\">\n",
       "      <th></th>\n",
       "      <th>Path</th>\n",
       "      <th>Nb_Features</th>\n",
       "    </tr>\n",
       "  </thead>\n",
       "  <tbody>\n",
       "    <tr>\n",
       "      <th>0</th>\n",
       "      <td>s3a://s3-ds-p8/Training/carrot_1/r0_18.jpg</td>\n",
       "      <td>25088</td>\n",
       "    </tr>\n",
       "    <tr>\n",
       "      <th>1</th>\n",
       "      <td>s3a://s3-ds-p8/Training/carrot_1/r0_38.jpg</td>\n",
       "      <td>25088</td>\n",
       "    </tr>\n",
       "    <tr>\n",
       "      <th>2</th>\n",
       "      <td>s3a://s3-ds-p8/Training/carrot_1/r0_108.jpg</td>\n",
       "      <td>25088</td>\n",
       "    </tr>\n",
       "    <tr>\n",
       "      <th>3</th>\n",
       "      <td>s3a://s3-ds-p8/Training/carrot_1/r0_76.jpg</td>\n",
       "      <td>25088</td>\n",
       "    </tr>\n",
       "    <tr>\n",
       "      <th>4</th>\n",
       "      <td>s3a://s3-ds-p8/Training/carrot_1/r0_178.jpg</td>\n",
       "      <td>25088</td>\n",
       "    </tr>\n",
       "    <tr>\n",
       "      <th>...</th>\n",
       "      <td>...</td>\n",
       "      <td>...</td>\n",
       "    </tr>\n",
       "    <tr>\n",
       "      <th>415</th>\n",
       "      <td>s3a://s3-ds-p8/Validation/pear_1/r1_109.jpg</td>\n",
       "      <td>25088</td>\n",
       "    </tr>\n",
       "    <tr>\n",
       "      <th>416</th>\n",
       "      <td>s3a://s3-ds-p8/Validation/pear_1/r1_169.jpg</td>\n",
       "      <td>25088</td>\n",
       "    </tr>\n",
       "    <tr>\n",
       "      <th>417</th>\n",
       "      <td>s3a://s3-ds-p8/Validation/pear_1/r1_77.jpg</td>\n",
       "      <td>25088</td>\n",
       "    </tr>\n",
       "    <tr>\n",
       "      <th>418</th>\n",
       "      <td>s3a://s3-ds-p8/Validation/pear_1/r1_69.jpg</td>\n",
       "      <td>25088</td>\n",
       "    </tr>\n",
       "    <tr>\n",
       "      <th>419</th>\n",
       "      <td>s3a://s3-ds-p8/Validation/pear_1/r1_209.jpg</td>\n",
       "      <td>25088</td>\n",
       "    </tr>\n",
       "  </tbody>\n",
       "</table>\n",
       "<p>420 rows × 2 columns</p>\n",
       "</div>"
      ],
      "text/plain": [
       "                                            Path  Nb_Features\n",
       "0     s3a://s3-ds-p8/Training/carrot_1/r0_18.jpg        25088\n",
       "1     s3a://s3-ds-p8/Training/carrot_1/r0_38.jpg        25088\n",
       "2    s3a://s3-ds-p8/Training/carrot_1/r0_108.jpg        25088\n",
       "3     s3a://s3-ds-p8/Training/carrot_1/r0_76.jpg        25088\n",
       "4    s3a://s3-ds-p8/Training/carrot_1/r0_178.jpg        25088\n",
       "..                                           ...          ...\n",
       "415  s3a://s3-ds-p8/Validation/pear_1/r1_109.jpg        25088\n",
       "416  s3a://s3-ds-p8/Validation/pear_1/r1_169.jpg        25088\n",
       "417   s3a://s3-ds-p8/Validation/pear_1/r1_77.jpg        25088\n",
       "418   s3a://s3-ds-p8/Validation/pear_1/r1_69.jpg        25088\n",
       "419  s3a://s3-ds-p8/Validation/pear_1/r1_209.jpg        25088\n",
       "\n",
       "[420 rows x 2 columns]"
      ]
     },
     "execution_count": 9,
     "metadata": {},
     "output_type": "execute_result"
    }
   ],
   "source": [
    "df_output"
   ]
  },
  {
   "cell_type": "markdown",
   "id": "63949038",
   "metadata": {},
   "source": [
    "In a synthetic table, we verify that every row of the output dataframe has the same amount of features :"
   ]
  },
  {
   "cell_type": "code",
   "execution_count": 10,
   "id": "e85c462b",
   "metadata": {
    "ExecuteTime": {
     "end_time": "2022-11-17T20:04:49.177645Z",
     "start_time": "2022-11-17T20:04:49.163634Z"
    }
   },
   "outputs": [
    {
     "data": {
      "text/html": [
       "<div>\n",
       "<style scoped>\n",
       "    .dataframe tbody tr th:only-of-type {\n",
       "        vertical-align: middle;\n",
       "    }\n",
       "\n",
       "    .dataframe tbody tr th {\n",
       "        vertical-align: top;\n",
       "    }\n",
       "\n",
       "    .dataframe thead th {\n",
       "        text-align: right;\n",
       "    }\n",
       "</style>\n",
       "<table border=\"1\" class=\"dataframe\">\n",
       "  <thead>\n",
       "    <tr style=\"text-align: right;\">\n",
       "      <th></th>\n",
       "      <th>Nb_Features</th>\n",
       "    </tr>\n",
       "  </thead>\n",
       "  <tbody>\n",
       "    <tr>\n",
       "      <th>count</th>\n",
       "      <td>420.0</td>\n",
       "    </tr>\n",
       "    <tr>\n",
       "      <th>mean</th>\n",
       "      <td>25088.0</td>\n",
       "    </tr>\n",
       "    <tr>\n",
       "      <th>std</th>\n",
       "      <td>0.0</td>\n",
       "    </tr>\n",
       "    <tr>\n",
       "      <th>min</th>\n",
       "      <td>25088.0</td>\n",
       "    </tr>\n",
       "    <tr>\n",
       "      <th>25%</th>\n",
       "      <td>25088.0</td>\n",
       "    </tr>\n",
       "    <tr>\n",
       "      <th>50%</th>\n",
       "      <td>25088.0</td>\n",
       "    </tr>\n",
       "    <tr>\n",
       "      <th>75%</th>\n",
       "      <td>25088.0</td>\n",
       "    </tr>\n",
       "    <tr>\n",
       "      <th>max</th>\n",
       "      <td>25088.0</td>\n",
       "    </tr>\n",
       "  </tbody>\n",
       "</table>\n",
       "</div>"
      ],
      "text/plain": [
       "       Nb_Features\n",
       "count        420.0\n",
       "mean       25088.0\n",
       "std            0.0\n",
       "min        25088.0\n",
       "25%        25088.0\n",
       "50%        25088.0\n",
       "75%        25088.0\n",
       "max        25088.0"
      ]
     },
     "execution_count": 10,
     "metadata": {},
     "output_type": "execute_result"
    }
   ],
   "source": [
    "df_output.describe()"
   ]
  },
  {
   "cell_type": "code",
   "execution_count": 11,
   "id": "b424a0b7",
   "metadata": {
    "ExecuteTime": {
     "end_time": "2022-11-17T20:04:49.193641Z",
     "start_time": "2022-11-17T20:04:49.178639Z"
    }
   },
   "outputs": [
    {
     "name": "stdout",
     "output_type": "stream",
     "text": [
      "We can check in the table that both mean, min and max values are identical : 25_088 for the field Nb_Features.\n"
     ]
    }
   ],
   "source": [
    "print(f\"We can check in the table that both mean, min and max values are identical : \\\n",
    "{df_output.Nb_Features.mean():_.0f} for the field Nb_Features.\")"
   ]
  }
 ],
 "metadata": {
  "kernelspec": {
   "display_name": "Python 3 (ipykernel)",
   "language": "python",
   "name": "python3"
  },
  "language_info": {
   "codemirror_mode": {
    "name": "ipython",
    "version": 3
   },
   "file_extension": ".py",
   "mimetype": "text/x-python",
   "name": "python",
   "nbconvert_exporter": "python",
   "pygments_lexer": "ipython3",
   "version": "3.9.12"
  },
  "toc": {
   "base_numbering": 1,
   "nav_menu": {},
   "number_sections": true,
   "sideBar": true,
   "skip_h1_title": false,
   "title_cell": "Table of Contents",
   "title_sidebar": "Contents",
   "toc_cell": false,
   "toc_position": {},
   "toc_section_display": true,
   "toc_window_display": false
  }
 },
 "nbformat": 4,
 "nbformat_minor": 5
}
